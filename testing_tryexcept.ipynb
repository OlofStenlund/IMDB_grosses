{
 "cells": [
  {
   "cell_type": "code",
   "execution_count": 2,
   "metadata": {},
   "outputs": [],
   "source": [
    "import pandas as pd\n",
    "import sqlite3\n",
    "from create_database_instance import db, update_movie, insert_director, look_for_duplicates, replace_none_image_column, return_duplicates, delete_duplicates\n",
    "import requests\n"
   ]
  },
  {
   "cell_type": "code",
   "execution_count": 3,
   "metadata": {},
   "outputs": [],
   "source": [
    "get_movies = \"\"\"\n",
    "SELECT * FROM Movies\n",
    "\"\"\""
   ]
  },
  {
   "cell_type": "code",
   "execution_count": 4,
   "metadata": {},
   "outputs": [],
   "source": [
    "url_path = (\"https://imdb-api.com/en/API/Title/k_br0y2jj3/\")"
   ]
  },
  {
   "cell_type": "code",
   "execution_count": 19,
   "metadata": {},
   "outputs": [
    {
     "data": {
      "text/html": [
       "<div>\n",
       "<style scoped>\n",
       "    .dataframe tbody tr th:only-of-type {\n",
       "        vertical-align: middle;\n",
       "    }\n",
       "\n",
       "    .dataframe tbody tr th {\n",
       "        vertical-align: top;\n",
       "    }\n",
       "\n",
       "    .dataframe thead th {\n",
       "        text-align: right;\n",
       "    }\n",
       "</style>\n",
       "<table border=\"1\" class=\"dataframe\">\n",
       "  <thead>\n",
       "    <tr style=\"text-align: right;\">\n",
       "      <th></th>\n",
       "      <th>0</th>\n",
       "      <th>1</th>\n",
       "      <th>2</th>\n",
       "      <th>3</th>\n",
       "      <th>4</th>\n",
       "      <th>5</th>\n",
       "      <th>6</th>\n",
       "      <th>7</th>\n",
       "    </tr>\n",
       "  </thead>\n",
       "  <tbody>\n",
       "    <tr>\n",
       "      <th>542</th>\n",
       "      <td>543</td>\n",
       "      <td>543</td>\n",
       "      <td>The Divergent Series: Insurgent</td>\n",
       "      <td>297002527</td>\n",
       "      <td>2015</td>\n",
       "      <td>tt4516496</td>\n",
       "      <td>0</td>\n",
       "      <td>0</td>\n",
       "    </tr>\n",
       "  </tbody>\n",
       "</table>\n",
       "</div>"
      ],
      "text/plain": [
       "       0    1                                2          3     4          5  6  \\\n",
       "542  543  543  The Divergent Series: Insurgent  297002527  2015  tt4516496  0   \n",
       "\n",
       "     7  \n",
       "542  0  "
      ]
     },
     "execution_count": 19,
     "metadata": {},
     "output_type": "execute_result"
    }
   ],
   "source": [
    "df1 = db.call_db(get_movies)\n",
    "df2 = pd.DataFrame(df1)\n",
    "df3 = df2[542:543]\n",
    "df3"
   ]
  },
  {
   "attachments": {},
   "cell_type": "markdown",
   "metadata": {},
   "source": [
    "Two directors! How to handle multiple results?\n",
    "Check if len > 1, if so, make a loop and extraxt each argument\n",
    "How?\n",
    "Then append the column with that value, utsing \",\" as deliminer.\n",
    "Eg. \"Joel Crawford, Januel Mercado\"\n",
    "How? How can we append a column value in sqlite3. \n",
    "Check this!"
   ]
  },
  {
   "cell_type": "code",
   "execution_count": 6,
   "metadata": {},
   "outputs": [],
   "source": [
    "def check_image_int(image):\n",
    "    try:\n",
    "        image_col = int(image)\n",
    "        return image_col\n",
    "    except: \n",
    "        pass\n",
    "\n",
    "\n",
    "def check_dir_int(director):\n",
    "    try:\n",
    "        dir_col = int(director)\n",
    "        return dir_col\n",
    "    except:\n",
    "        pass\n",
    "\n",
    "def check_for_none(number_check):\n",
    "    for arg in number_check:\n",
    "        try:\n",
    "            arg\n",
    "            print(\"test_number_check succeded!\")\n",
    "            return arg\n",
    "        except:\n",
    "            print(\"test_number_check failed\")\n",
    "            pass"
   ]
  },
  {
   "cell_type": "code",
   "execution_count": 17,
   "metadata": {},
   "outputs": [
    {
     "name": "stdout",
     "output_type": "stream",
     "text": [
      "1\n",
      "2\n",
      "3\n",
      "4\n",
      "Movies added: 0\n",
      "Directors added: 0\n"
     ]
    }
   ],
   "source": [
    "max_requests_per_day = 4\n",
    "counter = 0\n",
    "num_of_dir_added = 0\n",
    "num_of_movies_added = 0\n",
    "\n",
    "\n",
    "for num, movie_id in enumerate(df3[5]):\n",
    "    image_col_value = df3.iloc[num, 6]\n",
    "    dir_col_value = df3.iloc[num, 7]\n",
    "    image = check_image_int(image_col_value)\n",
    "    dir = check_dir_int(dir_col_value)\n",
    "    # Check if the value in any column is 0\n",
    "    if image == 0 or dir == 0:\n",
    "        # resp = requests.get(f\"{url_path}{movie_id}\")\n",
    "        counter += 1\n",
    "        print(counter)\n",
    "        if counter == max_requests_per_day:\n",
    "            break\n",
    "            # resp_json = resp.json()\n",
    "            # try:\n",
    "            #     image = resp_json['image']\n",
    "            # except:\n",
    "            #     image = 0\n",
    "            # if resp_json['directorList'] is None:\n",
    "            #     print(\"End of the line\")\n",
    "            #     break\n",
    "            # else:\n",
    "            #     # Add directors names to list\n",
    "            #     # If no name available, add 0\n",
    "            #     directors_name_list = []\n",
    "            #     directors_id_list = []\n",
    "            #     for i in range(len(resp_json['directorList'])):\n",
    "            #         try:\n",
    "            #             directors_name_list.append(resp_json['directorList'][i]['name'])\n",
    "            #         except:\n",
    "            #             directors_name_list.append(0)\n",
    "            #         try:\n",
    "            #             directors_id_list.append(resp_json['directorList'][i]['id'])\n",
    "            #         except:\n",
    "            #             directors_id_list.append(0)\n",
    "            #             # Add each item in the lists to directoras table\n",
    "\n",
    "            #     for num, i in enumerate(directors_name_list):\n",
    "            #         check_dir_duplicates = db.call_db(look_for_duplicates, i)\n",
    "            #         if len(check_dir_duplicates) > 0:\n",
    "            #             # print(\"duplicates found. Insertion aborted\")\n",
    "            #             pass\n",
    "            #         else:\n",
    "            #             db.call_db(insert_director, directors_id_list[num], directors_name_list[num])\n",
    "            #             num_of_dir_added += 1\n",
    "            #             # print(\"Values inserted\")\n",
    "\n",
    "            #     if len(directors_name_list) > 1:\n",
    "            #         director_movie_table = \", \".join(directors_name_list)\n",
    "            #         db.call_db(update_movie, image, director_movie_table, movie_id)\n",
    "            #         num_of_movies_added += 1\n",
    "            #         # print(\"More directors\")\n",
    "            #     elif len(directors_name_list) == 1:\n",
    "            #         db.call_db(update_movie, image, directors_name_list[0], movie_id)\n",
    "            #         num_of_movies_added += 1\n",
    "\n",
    "\n",
    "print(f\"Movies added: {num_of_movies_added}\")\n",
    "print(f\"Directors added: {num_of_dir_added}\")\n"
   ]
  },
  {
   "cell_type": "code",
   "execution_count": 20,
   "metadata": {},
   "outputs": [],
   "source": [
    "\n",
    "for num, movie_id in enumerate(df3[5]):\n",
    "    image_col_value = df3.iloc[num, 6]\n",
    "    dir_col_value = df3.iloc[num, 7]\n",
    "    image = check_image_int(image_col_value)\n",
    "    dir = check_dir_int(dir_col_value)\n",
    "    if image == 0 or dir == 0:\n",
    "        resp = requests.get(f\"{url_path}{movie_id}\")\n",
    "        resp_json = resp.json()"
   ]
  },
  {
   "cell_type": "code",
   "execution_count": 21,
   "metadata": {},
   "outputs": [
    {
     "data": {
      "text/plain": [
       "{'id': 'tt4516496',\n",
       " 'title': None,\n",
       " 'originalTitle': None,\n",
       " 'fullTitle': None,\n",
       " 'type': None,\n",
       " 'year': None,\n",
       " 'image': None,\n",
       " 'releaseDate': None,\n",
       " 'runtimeMins': None,\n",
       " 'runtimeStr': None,\n",
       " 'plot': None,\n",
       " 'plotLocal': None,\n",
       " 'plotLocalIsRtl': False,\n",
       " 'awards': None,\n",
       " 'directors': None,\n",
       " 'directorList': None,\n",
       " 'writers': None,\n",
       " 'writerList': None,\n",
       " 'stars': None,\n",
       " 'starList': None,\n",
       " 'actorList': None,\n",
       " 'fullCast': None,\n",
       " 'genres': None,\n",
       " 'genreList': None,\n",
       " 'companies': None,\n",
       " 'companyList': None,\n",
       " 'countries': None,\n",
       " 'countryList': None,\n",
       " 'languages': None,\n",
       " 'languageList': None,\n",
       " 'contentRating': None,\n",
       " 'imDbRating': None,\n",
       " 'imDbRatingVotes': None,\n",
       " 'metacriticRating': None,\n",
       " 'ratings': None,\n",
       " 'wikipedia': None,\n",
       " 'posters': None,\n",
       " 'images': None,\n",
       " 'trailer': None,\n",
       " 'boxOffice': None,\n",
       " 'tagline': None,\n",
       " 'keywords': None,\n",
       " 'keywordList': None,\n",
       " 'similars': None,\n",
       " 'tvSeriesInfo': None,\n",
       " 'tvEpisodeInfo': None,\n",
       " 'errorMessage': 'VideoGame is not valid'}"
      ]
     },
     "execution_count": 21,
     "metadata": {},
     "output_type": "execute_result"
    }
   ],
   "source": [
    "resp_json"
   ]
  }
 ],
 "metadata": {
  "kernelspec": {
   "display_name": "base",
   "language": "python",
   "name": "python3"
  },
  "language_info": {
   "codemirror_mode": {
    "name": "ipython",
    "version": 3
   },
   "file_extension": ".py",
   "mimetype": "text/x-python",
   "name": "python",
   "nbconvert_exporter": "python",
   "pygments_lexer": "ipython3",
   "version": "3.9.13"
  },
  "orig_nbformat": 4
 },
 "nbformat": 4,
 "nbformat_minor": 2
}
