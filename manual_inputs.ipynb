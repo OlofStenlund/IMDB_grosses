{
 "cells": [
  {
   "cell_type": "code",
   "execution_count": 53,
   "metadata": {},
   "outputs": [],
   "source": [
    "from create_database_instance import db, get_movies, get_missing_director_names, insert_missing_director, look_for_duplicates, insert_director\n",
    "import pandas as pd\n",
    "from typing import List\n",
    "\n"
   ]
  },
  {
   "cell_type": "code",
   "execution_count": 54,
   "metadata": {},
   "outputs": [
    {
     "data": {
      "text/html": [
       "<div>\n",
       "<style scoped>\n",
       "    .dataframe tbody tr th:only-of-type {\n",
       "        vertical-align: middle;\n",
       "    }\n",
       "\n",
       "    .dataframe tbody tr th {\n",
       "        vertical-align: top;\n",
       "    }\n",
       "\n",
       "    .dataframe thead th {\n",
       "        text-align: right;\n",
       "    }\n",
       "</style>\n",
       "<table border=\"1\" class=\"dataframe\">\n",
       "  <thead>\n",
       "    <tr style=\"text-align: right;\">\n",
       "      <th></th>\n",
       "      <th>0</th>\n",
       "      <th>1</th>\n",
       "      <th>2</th>\n",
       "      <th>3</th>\n",
       "      <th>4</th>\n",
       "      <th>5</th>\n",
       "      <th>6</th>\n",
       "      <th>7</th>\n",
       "    </tr>\n",
       "  </thead>\n",
       "  <tbody>\n",
       "    <tr>\n",
       "      <th>0</th>\n",
       "      <td>426</td>\n",
       "      <td>426</td>\n",
       "      <td>Hannibal</td>\n",
       "      <td>351692268</td>\n",
       "      <td>2001</td>\n",
       "      <td>tt2243973</td>\n",
       "      <td>0</td>\n",
       "      <td>0</td>\n",
       "    </tr>\n",
       "    <tr>\n",
       "      <th>1</th>\n",
       "      <td>490</td>\n",
       "      <td>490</td>\n",
       "      <td>The Last Airbender</td>\n",
       "      <td>319713881</td>\n",
       "      <td>2010</td>\n",
       "      <td>tt0417299</td>\n",
       "      <td>0</td>\n",
       "      <td>0</td>\n",
       "    </tr>\n",
       "    <tr>\n",
       "      <th>2</th>\n",
       "      <td>516</td>\n",
       "      <td>516</td>\n",
       "      <td>Chicago</td>\n",
       "      <td>306776732</td>\n",
       "      <td>2002</td>\n",
       "      <td>tt2261391</td>\n",
       "      <td>0</td>\n",
       "      <td>0</td>\n",
       "    </tr>\n",
       "    <tr>\n",
       "      <th>3</th>\n",
       "      <td>543</td>\n",
       "      <td>543</td>\n",
       "      <td>The Divergent Series: Insurgent</td>\n",
       "      <td>297002527</td>\n",
       "      <td>2015</td>\n",
       "      <td>tt4516496</td>\n",
       "      <td>0</td>\n",
       "      <td>0</td>\n",
       "    </tr>\n",
       "    <tr>\n",
       "      <th>4</th>\n",
       "      <td>576</td>\n",
       "      <td>576</td>\n",
       "      <td>The Tourist</td>\n",
       "      <td>278780441</td>\n",
       "      <td>2010</td>\n",
       "      <td>tt11847842</td>\n",
       "      <td>0</td>\n",
       "      <td>0</td>\n",
       "    </tr>\n",
       "    <tr>\n",
       "      <th>5</th>\n",
       "      <td>591</td>\n",
       "      <td>591</td>\n",
       "      <td>Lilo &amp; Stitch</td>\n",
       "      <td>273144151</td>\n",
       "      <td>2002</td>\n",
       "      <td>tt11655566</td>\n",
       "      <td>0</td>\n",
       "      <td>0</td>\n",
       "    </tr>\n",
       "  </tbody>\n",
       "</table>\n",
       "</div>"
      ],
      "text/plain": [
       "     0    1                                2          3     4           5  6  \\\n",
       "0  426  426                         Hannibal  351692268  2001   tt2243973  0   \n",
       "1  490  490               The Last Airbender  319713881  2010   tt0417299  0   \n",
       "2  516  516                          Chicago  306776732  2002   tt2261391  0   \n",
       "3  543  543  The Divergent Series: Insurgent  297002527  2015   tt4516496  0   \n",
       "4  576  576                      The Tourist  278780441  2010  tt11847842  0   \n",
       "5  591  591                    Lilo & Stitch  273144151  2002  tt11655566  0   \n",
       "\n",
       "   7  \n",
       "0  0  \n",
       "1  0  \n",
       "2  0  \n",
       "3  0  \n",
       "4  0  \n",
       "5  0  "
      ]
     },
     "execution_count": 54,
     "metadata": {},
     "output_type": "execute_result"
    }
   ],
   "source": [
    "res = db.call_db(get_missing_director_names)\n",
    "\n",
    "df = pd.DataFrame(res)\n",
    "\n",
    "df"
   ]
  },
  {
   "cell_type": "code",
   "execution_count": 55,
   "metadata": {},
   "outputs": [],
   "source": [
    "\n",
    "\n",
    "mov_titles = []\n",
    "mov_ids = []\n",
    "for i, mov in enumerate(res):\n",
    "    mov_title = res[i][2]\n",
    "    mov_id = res[i][5]\n",
    "    mov_titles.append(mov_title)\n",
    "    mov_ids.append(mov_id)"
   ]
  },
  {
   "cell_type": "code",
   "execution_count": 56,
   "metadata": {},
   "outputs": [
    {
     "data": {
      "text/plain": [
       "['tt2243973',\n",
       " 'tt0417299',\n",
       " 'tt2261391',\n",
       " 'tt4516496',\n",
       " 'tt11847842',\n",
       " 'tt11655566']"
      ]
     },
     "execution_count": 56,
     "metadata": {},
     "output_type": "execute_result"
    }
   ],
   "source": [
    "mov_ids"
   ]
  },
  {
   "cell_type": "code",
   "execution_count": 57,
   "metadata": {},
   "outputs": [],
   "source": [
    "added_directors = {}"
   ]
  },
  {
   "cell_type": "code",
   "execution_count": null,
   "metadata": {},
   "outputs": [],
   "source": []
  },
  {
   "cell_type": "code",
   "execution_count": 58,
   "metadata": {},
   "outputs": [],
   "source": [
    "# for i in mov_titles:\n",
    "#     while True:\n",
    "#         user_inp = input(f\"Who directed {i}\")\n",
    "#         conf = input(f\"Confirm that {i} was directed by {user_inp} (y/n)\")\n",
    "#         if conf == \"y\":\n",
    "#             added_directors[f'{i}'] = f'{user_inp}'\n",
    "#             db.call_db(insert_missing_director(user_inp, i))\n",
    "#             print(\"Confirmed!\")\n",
    "#             break\n",
    "#         else: \n",
    "#             pass\n",
    "            \n"
   ]
  },
  {
   "cell_type": "markdown",
   "metadata": {},
   "source": [
    "This funtion adds one director poer movie and id if director is missing\n",
    "Add a step to handle two directors for a film"
   ]
  },
  {
   "cell_type": "code",
   "execution_count": 59,
   "metadata": {},
   "outputs": [
    {
     "name": "stdout",
     "output_type": "stream",
     "text": [
      "Confirmed!\n",
      "Confirmed!\n",
      "Confirmed!\n"
     ]
    },
    {
     "ename": "KeyboardInterrupt",
     "evalue": "Interrupted by user",
     "output_type": "error",
     "traceback": [
      "\u001b[1;31m---------------------------------------------------------------------------\u001b[0m",
      "\u001b[1;31mKeyboardInterrupt\u001b[0m                         Traceback (most recent call last)",
      "\u001b[1;32m~\\AppData\\Local\\Temp\\ipykernel_10276\\2363440257.py\u001b[0m in \u001b[0;36m<module>\u001b[1;34m\u001b[0m\n\u001b[0;32m      1\u001b[0m \u001b[1;32mfor\u001b[0m \u001b[0mi\u001b[0m \u001b[1;32min\u001b[0m \u001b[0mmov_titles\u001b[0m\u001b[1;33m:\u001b[0m\u001b[1;33m\u001b[0m\u001b[1;33m\u001b[0m\u001b[0m\n\u001b[0;32m      2\u001b[0m     \u001b[0muser_inp\u001b[0m \u001b[1;33m=\u001b[0m \u001b[0minput\u001b[0m\u001b[1;33m(\u001b[0m\u001b[1;34mf\"Who directed {i}\"\u001b[0m\u001b[1;33m)\u001b[0m\u001b[1;33m\u001b[0m\u001b[1;33m\u001b[0m\u001b[0m\n\u001b[1;32m----> 3\u001b[1;33m     \u001b[0mconf\u001b[0m \u001b[1;33m=\u001b[0m \u001b[0minput\u001b[0m\u001b[1;33m(\u001b[0m\u001b[1;34mf\"Confirm that {i} was directed by {user_inp} (y/n)\"\u001b[0m\u001b[1;33m)\u001b[0m\u001b[1;33m\u001b[0m\u001b[1;33m\u001b[0m\u001b[0m\n\u001b[0m\u001b[0;32m      4\u001b[0m     \u001b[1;32mif\u001b[0m \u001b[0mconf\u001b[0m \u001b[1;33m==\u001b[0m \u001b[1;34m\"y\"\u001b[0m\u001b[1;33m:\u001b[0m\u001b[1;33m\u001b[0m\u001b[1;33m\u001b[0m\u001b[0m\n\u001b[0;32m      5\u001b[0m         \u001b[0madded_directors\u001b[0m\u001b[1;33m[\u001b[0m\u001b[1;34mf'{i}'\u001b[0m\u001b[1;33m]\u001b[0m \u001b[1;33m=\u001b[0m \u001b[1;34mf'{user_inp}'\u001b[0m\u001b[1;33m\u001b[0m\u001b[1;33m\u001b[0m\u001b[0m\n",
      "\u001b[1;32mc:\\Users\\olofs\\anaconda3\\lib\\site-packages\\ipykernel\\kernelbase.py\u001b[0m in \u001b[0;36mraw_input\u001b[1;34m(self, prompt)\u001b[0m\n\u001b[0;32m   1175\u001b[0m                 \u001b[1;34m\"raw_input was called, but this frontend does not support input requests.\"\u001b[0m\u001b[1;33m\u001b[0m\u001b[1;33m\u001b[0m\u001b[0m\n\u001b[0;32m   1176\u001b[0m             )\n\u001b[1;32m-> 1177\u001b[1;33m         return self._input_request(\n\u001b[0m\u001b[0;32m   1178\u001b[0m             \u001b[0mstr\u001b[0m\u001b[1;33m(\u001b[0m\u001b[0mprompt\u001b[0m\u001b[1;33m)\u001b[0m\u001b[1;33m,\u001b[0m\u001b[1;33m\u001b[0m\u001b[1;33m\u001b[0m\u001b[0m\n\u001b[0;32m   1179\u001b[0m             \u001b[0mself\u001b[0m\u001b[1;33m.\u001b[0m\u001b[0m_parent_ident\u001b[0m\u001b[1;33m[\u001b[0m\u001b[1;34m\"shell\"\u001b[0m\u001b[1;33m]\u001b[0m\u001b[1;33m,\u001b[0m\u001b[1;33m\u001b[0m\u001b[1;33m\u001b[0m\u001b[0m\n",
      "\u001b[1;32mc:\\Users\\olofs\\anaconda3\\lib\\site-packages\\ipykernel\\kernelbase.py\u001b[0m in \u001b[0;36m_input_request\u001b[1;34m(self, prompt, ident, parent, password)\u001b[0m\n\u001b[0;32m   1217\u001b[0m             \u001b[1;32mexcept\u001b[0m \u001b[0mKeyboardInterrupt\u001b[0m\u001b[1;33m:\u001b[0m\u001b[1;33m\u001b[0m\u001b[1;33m\u001b[0m\u001b[0m\n\u001b[0;32m   1218\u001b[0m                 \u001b[1;31m# re-raise KeyboardInterrupt, to truncate traceback\u001b[0m\u001b[1;33m\u001b[0m\u001b[1;33m\u001b[0m\u001b[0m\n\u001b[1;32m-> 1219\u001b[1;33m                 \u001b[1;32mraise\u001b[0m \u001b[0mKeyboardInterrupt\u001b[0m\u001b[1;33m(\u001b[0m\u001b[1;34m\"Interrupted by user\"\u001b[0m\u001b[1;33m)\u001b[0m \u001b[1;32mfrom\u001b[0m \u001b[1;32mNone\u001b[0m\u001b[1;33m\u001b[0m\u001b[1;33m\u001b[0m\u001b[0m\n\u001b[0m\u001b[0;32m   1220\u001b[0m             \u001b[1;32mexcept\u001b[0m \u001b[0mException\u001b[0m\u001b[1;33m:\u001b[0m\u001b[1;33m\u001b[0m\u001b[1;33m\u001b[0m\u001b[0m\n\u001b[0;32m   1221\u001b[0m                 \u001b[0mself\u001b[0m\u001b[1;33m.\u001b[0m\u001b[0mlog\u001b[0m\u001b[1;33m.\u001b[0m\u001b[0mwarning\u001b[0m\u001b[1;33m(\u001b[0m\u001b[1;34m\"Invalid Message:\"\u001b[0m\u001b[1;33m,\u001b[0m \u001b[0mexc_info\u001b[0m\u001b[1;33m=\u001b[0m\u001b[1;32mTrue\u001b[0m\u001b[1;33m)\u001b[0m\u001b[1;33m\u001b[0m\u001b[1;33m\u001b[0m\u001b[0m\n",
      "\u001b[1;31mKeyboardInterrupt\u001b[0m: Interrupted by user"
     ]
    }
   ],
   "source": [
    "for i in mov_titles:\n",
    "    user_inp = input(f\"Who directed {i}\")\n",
    "    conf = input(f\"Confirm that {i} was directed by {user_inp} (y/n)\")\n",
    "    if conf == \"y\":\n",
    "        added_directors[f'{i}'] = f'{user_inp}'\n",
    "        db.call_db(insert_missing_director, user_inp, i)\n",
    "        check_dir_duplicates = db.call_db(look_for_duplicates, user_inp)\n",
    "        if len(check_dir_duplicates) == 0:\n",
    "            dir_id = input(\"Please enter Director ID: \")\n",
    "            conf = input(f\"Confirm that {user_inp} has ID {dir_id} (y/n)\")\n",
    "            if conf == \"y\":\n",
    "                db.call_db(insert_director, dir_id, user_inp)\n",
    "                continue\n",
    "            else:\n",
    "                pass\n",
    "        print(\"Confirmed!\")\n",
    "    else: \n",
    "        pass\n",
    "        "
   ]
  },
  {
   "cell_type": "code",
   "execution_count": 60,
   "metadata": {},
   "outputs": [
    {
     "data": {
      "text/plain": [
       "{'Hannibal': 'Ridley Scott',\n",
       " 'The Last Airbender': 'M. Night Shyamalan',\n",
       " 'Chicago': 'Rob Marshall',\n",
       " 'The Divergent Series: Insurgent': 'Robert Schwentke',\n",
       " 'The Tourist': 'Florian Henckel von Donnersmarck'}"
      ]
     },
     "execution_count": 60,
     "metadata": {},
     "output_type": "execute_result"
    }
   ],
   "source": [
    "added_directors"
   ]
  },
  {
   "cell_type": "code",
   "execution_count": null,
   "metadata": {},
   "outputs": [
    {
     "name": "stdout",
     "output_type": "stream",
     "text": [
      "Sex and the City was directed by Michael Patrick King\n"
     ]
    }
   ],
   "source": [
    "for i in added_directors.items():\n",
    "    print(f\"{i[0]} was directed by {i[1]}\")\n",
    "    # db.call_db(insert_missing_director, i[0], i[1])"
   ]
  },
  {
   "cell_type": "code",
   "execution_count": null,
   "metadata": {},
   "outputs": [
    {
     "ename": "TypeError",
     "evalue": "'dict_values' object is not subscriptable",
     "output_type": "error",
     "traceback": [
      "\u001b[1;31m---------------------------------------------------------------------------\u001b[0m",
      "\u001b[1;31mTypeError\u001b[0m                                 Traceback (most recent call last)",
      "\u001b[1;32m~\\AppData\\Local\\Temp\\ipykernel_10276\\3791955720.py\u001b[0m in \u001b[0;36m<module>\u001b[1;34m\u001b[0m\n\u001b[1;32m----> 1\u001b[1;33m \u001b[0madded_directors\u001b[0m\u001b[1;33m.\u001b[0m\u001b[0mvalues\u001b[0m\u001b[1;33m(\u001b[0m\u001b[1;33m)\u001b[0m\u001b[1;33m[\u001b[0m\u001b[1;36m0\u001b[0m\u001b[1;33m]\u001b[0m\u001b[1;33m\u001b[0m\u001b[1;33m\u001b[0m\u001b[0m\n\u001b[0m",
      "\u001b[1;31mTypeError\u001b[0m: 'dict_values' object is not subscriptable"
     ]
    }
   ],
   "source": [
    "added_directors.values()"
   ]
  },
  {
   "cell_type": "code",
   "execution_count": null,
   "metadata": {},
   "outputs": [],
   "source": [
    "url_path = (\"https://imdb-api.com/en/API/Title/k_br0y2jj3/\")"
   ]
  },
  {
   "cell_type": "code",
   "execution_count": null,
   "metadata": {},
   "outputs": [],
   "source": [
    "driectors_id_list = []\n",
    "\n",
    "\n",
    "for num, i in enumerate(added_directors.values()):\n",
    "    check_dir_duplicates = db.call_db(look_for_duplicates, i)\n",
    "    if len(check_dir_duplicates) > 0:\n",
    "        # print(\"duplicates found. Insertion aborted\")\n",
    "        pass\n",
    "    else:\n",
    "        \n",
    "        db.call_db(insert_director, directors_id_list[num], directors_name_list[num])\n",
    "        num_of_dir_added += 1\n",
    "        # print(\"Values inserted\")\n",
    "\n",
    "if len(directors_name_list) > 1:\n",
    "    director_movie_table = \", \".join(directors_name_list)\n",
    "    db.call_db(update_movie, image, director_movie_table, movie_id)\n",
    "    num_of_movies_added += 1\n",
    "    # print(\"More directors\")\n",
    "elif len(directors_name_list) == 1:\n",
    "    db.call_db(update_movie, image, directors_name_list[0], movie_id)\n",
    "    num_of_movies_added += 1"
   ]
  }
 ],
 "metadata": {
  "kernelspec": {
   "display_name": "base",
   "language": "python",
   "name": "python3"
  },
  "language_info": {
   "codemirror_mode": {
    "name": "ipython",
    "version": 3
   },
   "file_extension": ".py",
   "mimetype": "text/x-python",
   "name": "python",
   "nbconvert_exporter": "python",
   "pygments_lexer": "ipython3",
   "version": "3.9.13"
  },
  "orig_nbformat": 4
 },
 "nbformat": 4,
 "nbformat_minor": 2
}
