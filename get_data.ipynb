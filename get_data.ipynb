{
 "cells": [
  {
   "cell_type": "code",
   "execution_count": null,
   "metadata": {},
   "outputs": [],
   "source": [
    "import pandas as pd\n",
    "import cpi"
   ]
  },
  {
   "cell_type": "code",
   "execution_count": null,
   "metadata": {},
   "outputs": [],
   "source": [
    "def_600 = pd.read_csv(\"top_600.csv\")"
   ]
  },
  {
   "cell_type": "code",
   "execution_count": null,
   "metadata": {},
   "outputs": [],
   "source": [
    "df_600 = pd.DataFrame(def_600)"
   ]
  },
  {
   "cell_type": "code",
   "execution_count": null,
   "metadata": {},
   "outputs": [],
   "source": [
    "df_600"
   ]
  },
  {
   "cell_type": "code",
   "execution_count": null,
   "metadata": {},
   "outputs": [],
   "source": [
    "base_year = 2012"
   ]
  },
  {
   "cell_type": "code",
   "execution_count": null,
   "metadata": {},
   "outputs": [],
   "source": [
    "df_600[\"inflation_adjusted_gross\"] = 0\n",
    "df_600"
   ]
  },
  {
   "cell_type": "code",
   "execution_count": 144,
   "metadata": {},
   "outputs": [
    {
     "data": {
      "text/plain": [
       "0    0\n",
       "1    0\n",
       "Name: inflation_adjusted_gross, dtype: int64"
      ]
     },
     "execution_count": 144,
     "metadata": {},
     "output_type": "execute_result"
    }
   ],
   "source": [
    "df_600['inflation_adjusted_gross'][0:(0+2)]"
   ]
  },
  {
   "cell_type": "code",
   "execution_count": 149,
   "metadata": {},
   "outputs": [
    {
     "data": {
      "text/html": [
       "<div>\n",
       "<style scoped>\n",
       "    .dataframe tbody tr th:only-of-type {\n",
       "        vertical-align: middle;\n",
       "    }\n",
       "\n",
       "    .dataframe tbody tr th {\n",
       "        vertical-align: top;\n",
       "    }\n",
       "\n",
       "    .dataframe thead th {\n",
       "        text-align: right;\n",
       "    }\n",
       "</style>\n",
       "<table border=\"1\" class=\"dataframe\">\n",
       "  <thead>\n",
       "    <tr style=\"text-align: right;\">\n",
       "      <th></th>\n",
       "      <th>Rank</th>\n",
       "      <th>Title</th>\n",
       "      <th>Lifetime Gross</th>\n",
       "      <th>Year</th>\n",
       "      <th>inflation_adjusted_gross</th>\n",
       "    </tr>\n",
       "  </thead>\n",
       "  <tbody>\n",
       "    <tr>\n",
       "      <th>0</th>\n",
       "      <td>1</td>\n",
       "      <td>Avatar</td>\n",
       "      <td>2923706026</td>\n",
       "      <td>2009</td>\n",
       "      <td>3.128903e+09</td>\n",
       "    </tr>\n",
       "    <tr>\n",
       "      <th>1</th>\n",
       "      <td>2</td>\n",
       "      <td>Avengers: Endgame</td>\n",
       "      <td>2799439100</td>\n",
       "      <td>2019</td>\n",
       "      <td>2.799439e+09</td>\n",
       "    </tr>\n",
       "    <tr>\n",
       "      <th>2</th>\n",
       "      <td>3</td>\n",
       "      <td>Avatar: The Way of Water</td>\n",
       "      <td>2318325624</td>\n",
       "      <td>2022</td>\n",
       "      <td>2.318326e+09</td>\n",
       "    </tr>\n",
       "    <tr>\n",
       "      <th>3</th>\n",
       "      <td>4</td>\n",
       "      <td>Titanic</td>\n",
       "      <td>2264162353</td>\n",
       "      <td>1997</td>\n",
       "      <td>3.238867e+09</td>\n",
       "    </tr>\n",
       "    <tr>\n",
       "      <th>4</th>\n",
       "      <td>5</td>\n",
       "      <td>Star Wars: Episode VII - The Force Awakens</td>\n",
       "      <td>2071310218</td>\n",
       "      <td>2015</td>\n",
       "      <td>2.071310e+09</td>\n",
       "    </tr>\n",
       "    <tr>\n",
       "      <th>...</th>\n",
       "      <td>...</td>\n",
       "      <td>...</td>\n",
       "      <td>...</td>\n",
       "      <td>...</td>\n",
       "      <td>...</td>\n",
       "    </tr>\n",
       "    <tr>\n",
       "      <th>595</th>\n",
       "      <td>596</td>\n",
       "      <td>The Firm</td>\n",
       "      <td>270248367</td>\n",
       "      <td>1993</td>\n",
       "      <td>4.293938e+08</td>\n",
       "    </tr>\n",
       "    <tr>\n",
       "      <th>596</th>\n",
       "      <td>597</td>\n",
       "      <td>We're the Millers</td>\n",
       "      <td>269994119</td>\n",
       "      <td>2012</td>\n",
       "      <td>2.699941e+08</td>\n",
       "    </tr>\n",
       "    <tr>\n",
       "      <th>597</th>\n",
       "      <td>598</td>\n",
       "      <td>Gran Torino</td>\n",
       "      <td>269958228</td>\n",
       "      <td>2008</td>\n",
       "      <td>2.878770e+08</td>\n",
       "    </tr>\n",
       "    <tr>\n",
       "      <th>598</th>\n",
       "      <td>599</td>\n",
       "      <td>10,000 BC</td>\n",
       "      <td>269784201</td>\n",
       "      <td>2008</td>\n",
       "      <td>2.876915e+08</td>\n",
       "    </tr>\n",
       "    <tr>\n",
       "      <th>599</th>\n",
       "      <td>600</td>\n",
       "      <td>American Gangster</td>\n",
       "      <td>269755430</td>\n",
       "      <td>2007</td>\n",
       "      <td>2.987057e+08</td>\n",
       "    </tr>\n",
       "  </tbody>\n",
       "</table>\n",
       "<p>600 rows × 5 columns</p>\n",
       "</div>"
      ],
      "text/plain": [
       "     Rank                                       Title  Lifetime Gross  Year  \\\n",
       "0       1                                      Avatar      2923706026  2009   \n",
       "1       2                           Avengers: Endgame      2799439100  2019   \n",
       "2       3                    Avatar: The Way of Water      2318325624  2022   \n",
       "3       4                                     Titanic      2264162353  1997   \n",
       "4       5  Star Wars: Episode VII - The Force Awakens      2071310218  2015   \n",
       "..    ...                                         ...             ...   ...   \n",
       "595   596                                    The Firm       270248367  1993   \n",
       "596   597                           We're the Millers       269994119  2012   \n",
       "597   598                                 Gran Torino       269958228  2008   \n",
       "598   599                                   10,000 BC       269784201  2008   \n",
       "599   600                           American Gangster       269755430  2007   \n",
       "\n",
       "     inflation_adjusted_gross  \n",
       "0                3.128903e+09  \n",
       "1                2.799439e+09  \n",
       "2                2.318326e+09  \n",
       "3                3.238867e+09  \n",
       "4                2.071310e+09  \n",
       "..                        ...  \n",
       "595              4.293938e+08  \n",
       "596              2.699941e+08  \n",
       "597              2.878770e+08  \n",
       "598              2.876915e+08  \n",
       "599              2.987057e+08  \n",
       "\n",
       "[600 rows x 5 columns]"
      ]
     },
     "execution_count": 149,
     "metadata": {},
     "output_type": "execute_result"
    }
   ],
   "source": [
    "for num, info in enumerate(zip(df_600[\"Year\"], df_600[\"Lifetime Gross\"])):\n",
    "    year, gross = info\n",
    "    for i in num, year, gross:\n",
    "        if year < 2012:\n",
    "            # print(year, type(num))\n",
    "            df_600['inflation_adjusted_gross'][num:(num+1)] = cpi.inflate(gross, year, to=2012)\n",
    "        else:\n",
    "            df_600['inflation_adjusted_gross'][num:(num+1)] = gross\n",
    "            \n",
    "\n",
    "df_600"
   ]
  },
  {
   "cell_type": "code",
   "execution_count": 150,
   "metadata": {},
   "outputs": [],
   "source": [
    "df_600.to_csv(\"adjusted_gross.csv\")"
   ]
  },
  {
   "cell_type": "code",
   "execution_count": null,
   "metadata": {},
   "outputs": [],
   "source": [
    "# for num, info in enumerate(zip(df_600[\"Year\"], df_600[\"Lifetime Gross\"])):\n",
    "#     year, gross = info\n",
    "#     # print(num, year, gross)\n",
    "#     if year < 2012:\n",
    "#         df_600[\"Inflation_Adjusted_Gross\"][num] = cpi.inflate(gross, year, to=2012)\n",
    "#         # xx = cpi.inflate(gross, year, to=2012)\n",
    "#         # df_600[\"inflation_adjusted_gross\"][num] == xx\n",
    "#     else:\n",
    "#         df_600[\"Inflation_Adjusted_Gross\"][num] = df_600[\"Lifetime Gross\"][num]\n",
    "# df_600\n",
    "#         # print(year, gross)"
   ]
  },
  {
   "cell_type": "code",
   "execution_count": null,
   "metadata": {},
   "outputs": [],
   "source": [
    "df_600"
   ]
  }
 ],
 "metadata": {
  "kernelspec": {
   "display_name": "base",
   "language": "python",
   "name": "python3"
  },
  "language_info": {
   "codemirror_mode": {
    "name": "ipython",
    "version": 3
   },
   "file_extension": ".py",
   "mimetype": "text/x-python",
   "name": "python",
   "nbconvert_exporter": "python",
   "pygments_lexer": "ipython3",
   "version": "3.9.13"
  },
  "orig_nbformat": 4
 },
 "nbformat": 4,
 "nbformat_minor": 2
}
